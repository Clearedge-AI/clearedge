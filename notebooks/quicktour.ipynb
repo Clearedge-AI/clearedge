{
  "cells": [
    {
      "cell_type": "code",
      "execution_count": 1,
      "metadata": {
        "colab": {
          "base_uri": "https://localhost:8080/"
        },
        "id": "ohjwCVP-YnOc",
        "outputId": "5445b82f-80e8-4ab5-88d8-ec704192844c"
      },
      "outputs": [
        {
          "output_type": "stream",
          "name": "stdout",
          "text": [
            "Collecting clearedge==0.1.17\n",
            "  Downloading clearedge-0.1.17-py3-none-any.whl (7.1 MB)\n",
            "\u001b[2K     \u001b[90m━━━━━━━━━━━━━━━━━━━━━━━━━━━━━━━━━━━━━━━━\u001b[0m \u001b[32m7.1/7.1 MB\u001b[0m \u001b[31m18.4 MB/s\u001b[0m eta \u001b[36m0:00:00\u001b[0m\n",
            "\u001b[?25hCollecting huggingface-hub<0.23.0,>=0.22.0 (from clearedge==0.1.17)\n",
            "  Downloading huggingface_hub-0.22.2-py3-none-any.whl (388 kB)\n",
            "\u001b[2K     \u001b[90m━━━━━━━━━━━━━━━━━━━━━━━━━━━━━━━━━━━━━━━━\u001b[0m \u001b[32m388.9/388.9 kB\u001b[0m \u001b[31m13.9 MB/s\u001b[0m eta \u001b[36m0:00:00\u001b[0m\n",
            "\u001b[?25hCollecting pdf2image<2.0.0,>=1.17.0 (from clearedge==0.1.17)\n",
            "  Downloading pdf2image-1.17.0-py3-none-any.whl (11 kB)\n",
            "Collecting pymupdf<2.0.0,>=1.24.0 (from clearedge==0.1.17)\n",
            "  Downloading PyMuPDF-1.24.0-cp310-none-manylinux2014_x86_64.whl (3.9 MB)\n",
            "\u001b[2K     \u001b[90m━━━━━━━━━━━━━━━━━━━━━━━━━━━━━━━━━━━━━━━━\u001b[0m \u001b[32m3.9/3.9 MB\u001b[0m \u001b[31m33.8 MB/s\u001b[0m eta \u001b[36m0:00:00\u001b[0m\n",
            "\u001b[?25hCollecting pytesseract<0.4.0,>=0.3.10 (from clearedge==0.1.17)\n",
            "  Downloading pytesseract-0.3.10-py3-none-any.whl (14 kB)\n",
            "Collecting rapid-table<0.2.0,>=0.1.3 (from clearedge==0.1.17)\n",
            "  Downloading rapid_table-0.1.3-py3-none-any.whl (7.1 MB)\n",
            "\u001b[2K     \u001b[90m━━━━━━━━━━━━━━━━━━━━━━━━━━━━━━━━━━━━━━━━\u001b[0m \u001b[32m7.1/7.1 MB\u001b[0m \u001b[31m61.5 MB/s\u001b[0m eta \u001b[36m0:00:00\u001b[0m\n",
            "\u001b[?25hCollecting rapidocr-onnxruntime<2.0.0,>=1.3.15 (from clearedge==0.1.17)\n",
            "  Downloading rapidocr_onnxruntime-1.3.15-py3-none-any.whl (14.9 MB)\n",
            "\u001b[2K     \u001b[90m━━━━━━━━━━━━━━━━━━━━━━━━━━━━━━━━━━━━━━━━\u001b[0m \u001b[32m14.9/14.9 MB\u001b[0m \u001b[31m44.6 MB/s\u001b[0m eta \u001b[36m0:00:00\u001b[0m\n",
            "\u001b[?25hRequirement already satisfied: requests<3.0.0,>=2.31.0 in /usr/local/lib/python3.10/dist-packages (from clearedge==0.1.17) (2.31.0)\n",
            "Collecting tf2onnx<2.0.0,>=1.16.1 (from clearedge==0.1.17)\n",
            "  Downloading tf2onnx-1.16.1-py3-none-any.whl (455 kB)\n",
            "\u001b[2K     \u001b[90m━━━━━━━━━━━━━━━━━━━━━━━━━━━━━━━━━━━━━━━━\u001b[0m \u001b[32m455.8/455.8 kB\u001b[0m \u001b[31m28.9 MB/s\u001b[0m eta \u001b[36m0:00:00\u001b[0m\n",
            "\u001b[?25hRequirement already satisfied: tqdm<5.0.0,>=4.66.2 in /usr/local/lib/python3.10/dist-packages (from clearedge==0.1.17) (4.66.2)\n",
            "Collecting ultralytics<8.1.0,>=8.0.225 (from clearedge==0.1.17)\n",
            "  Downloading ultralytics-8.0.239-py3-none-any.whl (699 kB)\n",
            "\u001b[2K     \u001b[90m━━━━━━━━━━━━━━━━━━━━━━━━━━━━━━━━━━━━━━━━\u001b[0m \u001b[32m699.1/699.1 kB\u001b[0m \u001b[31m29.9 MB/s\u001b[0m eta \u001b[36m0:00:00\u001b[0m\n",
            "\u001b[?25hCollecting validators<0.23.0,>=0.22.0 (from clearedge==0.1.17)\n",
            "  Downloading validators-0.22.0-py3-none-any.whl (26 kB)\n",
            "Requirement already satisfied: filelock in /usr/local/lib/python3.10/dist-packages (from huggingface-hub<0.23.0,>=0.22.0->clearedge==0.1.17) (3.13.3)\n",
            "Requirement already satisfied: fsspec>=2023.5.0 in /usr/local/lib/python3.10/dist-packages (from huggingface-hub<0.23.0,>=0.22.0->clearedge==0.1.17) (2023.6.0)\n",
            "Requirement already satisfied: packaging>=20.9 in /usr/local/lib/python3.10/dist-packages (from huggingface-hub<0.23.0,>=0.22.0->clearedge==0.1.17) (24.0)\n",
            "Requirement already satisfied: pyyaml>=5.1 in /usr/local/lib/python3.10/dist-packages (from huggingface-hub<0.23.0,>=0.22.0->clearedge==0.1.17) (6.0.1)\n",
            "Requirement already satisfied: typing-extensions>=3.7.4.3 in /usr/local/lib/python3.10/dist-packages (from huggingface-hub<0.23.0,>=0.22.0->clearedge==0.1.17) (4.10.0)\n",
            "Requirement already satisfied: pillow in /usr/local/lib/python3.10/dist-packages (from pdf2image<2.0.0,>=1.17.0->clearedge==0.1.17) (9.4.0)\n",
            "Collecting PyMuPDFb==1.24.0 (from pymupdf<2.0.0,>=1.24.0->clearedge==0.1.17)\n",
            "  Downloading PyMuPDFb-1.24.0-py3-none-manylinux2014_x86_64.manylinux_2_17_x86_64.whl (30.8 MB)\n",
            "\u001b[2K     \u001b[90m━━━━━━━━━━━━━━━━━━━━━━━━━━━━━━━━━━━━━━━━\u001b[0m \u001b[32m30.8/30.8 MB\u001b[0m \u001b[31m15.0 MB/s\u001b[0m eta \u001b[36m0:00:00\u001b[0m\n",
            "\u001b[?25hCollecting onnxruntime>=1.7.0 (from rapid-table<0.2.0,>=0.1.3->clearedge==0.1.17)\n",
            "  Downloading onnxruntime-1.17.1-cp310-cp310-manylinux_2_27_x86_64.manylinux_2_28_x86_64.whl (6.8 MB)\n",
            "\u001b[2K     \u001b[90m━━━━━━━━━━━━━━━━━━━━━━━━━━━━━━━━━━━━━━━━\u001b[0m \u001b[32m6.8/6.8 MB\u001b[0m \u001b[31m52.4 MB/s\u001b[0m eta \u001b[36m0:00:00\u001b[0m\n",
            "\u001b[?25hRequirement already satisfied: opencv-python>=4.5.1.48 in /usr/local/lib/python3.10/dist-packages (from rapid-table<0.2.0,>=0.1.3->clearedge==0.1.17) (4.8.0.76)\n",
            "Requirement already satisfied: numpy>=1.21.6 in /usr/local/lib/python3.10/dist-packages (from rapid-table<0.2.0,>=0.1.3->clearedge==0.1.17) (1.25.2)\n",
            "Collecting pyclipper>=1.2.0 (from rapidocr-onnxruntime<2.0.0,>=1.3.15->clearedge==0.1.17)\n",
            "  Downloading pyclipper-1.3.0.post5-cp310-cp310-manylinux_2_12_x86_64.manylinux2010_x86_64.whl (908 kB)\n",
            "\u001b[2K     \u001b[90m━━━━━━━━━━━━━━━━━━━━━━━━━━━━━━━━━━━━━━━━\u001b[0m \u001b[32m908.3/908.3 kB\u001b[0m \u001b[31m34.7 MB/s\u001b[0m eta \u001b[36m0:00:00\u001b[0m\n",
            "\u001b[?25hRequirement already satisfied: six>=1.15.0 in /usr/local/lib/python3.10/dist-packages (from rapidocr-onnxruntime<2.0.0,>=1.3.15->clearedge==0.1.17) (1.16.0)\n",
            "Requirement already satisfied: Shapely>=1.7.1 in /usr/local/lib/python3.10/dist-packages (from rapidocr-onnxruntime<2.0.0,>=1.3.15->clearedge==0.1.17) (2.0.3)\n",
            "Requirement already satisfied: charset-normalizer<4,>=2 in /usr/local/lib/python3.10/dist-packages (from requests<3.0.0,>=2.31.0->clearedge==0.1.17) (3.3.2)\n",
            "Requirement already satisfied: idna<4,>=2.5 in /usr/local/lib/python3.10/dist-packages (from requests<3.0.0,>=2.31.0->clearedge==0.1.17) (3.6)\n",
            "Requirement already satisfied: urllib3<3,>=1.21.1 in /usr/local/lib/python3.10/dist-packages (from requests<3.0.0,>=2.31.0->clearedge==0.1.17) (2.0.7)\n",
            "Requirement already satisfied: certifi>=2017.4.17 in /usr/local/lib/python3.10/dist-packages (from requests<3.0.0,>=2.31.0->clearedge==0.1.17) (2024.2.2)\n",
            "Collecting onnx>=1.4.1 (from tf2onnx<2.0.0,>=1.16.1->clearedge==0.1.17)\n",
            "  Downloading onnx-1.16.0-cp310-cp310-manylinux_2_17_x86_64.manylinux2014_x86_64.whl (15.9 MB)\n",
            "\u001b[2K     \u001b[90m━━━━━━━━━━━━━━━━━━━━━━━━━━━━━━━━━━━━━━━━\u001b[0m \u001b[32m15.9/15.9 MB\u001b[0m \u001b[31m48.0 MB/s\u001b[0m eta \u001b[36m0:00:00\u001b[0m\n",
            "\u001b[?25hRequirement already satisfied: flatbuffers>=1.12 in /usr/local/lib/python3.10/dist-packages (from tf2onnx<2.0.0,>=1.16.1->clearedge==0.1.17) (24.3.25)\n",
            "Requirement already satisfied: protobuf~=3.20 in /usr/local/lib/python3.10/dist-packages (from tf2onnx<2.0.0,>=1.16.1->clearedge==0.1.17) (3.20.3)\n",
            "Requirement already satisfied: matplotlib>=3.3.0 in /usr/local/lib/python3.10/dist-packages (from ultralytics<8.1.0,>=8.0.225->clearedge==0.1.17) (3.7.1)\n",
            "Requirement already satisfied: scipy>=1.4.1 in /usr/local/lib/python3.10/dist-packages (from ultralytics<8.1.0,>=8.0.225->clearedge==0.1.17) (1.11.4)\n",
            "Requirement already satisfied: torch>=1.8.0 in /usr/local/lib/python3.10/dist-packages (from ultralytics<8.1.0,>=8.0.225->clearedge==0.1.17) (2.2.1+cu121)\n",
            "Requirement already satisfied: torchvision>=0.9.0 in /usr/local/lib/python3.10/dist-packages (from ultralytics<8.1.0,>=8.0.225->clearedge==0.1.17) (0.17.1+cu121)\n",
            "Requirement already satisfied: psutil in /usr/local/lib/python3.10/dist-packages (from ultralytics<8.1.0,>=8.0.225->clearedge==0.1.17) (5.9.5)\n",
            "Requirement already satisfied: py-cpuinfo in /usr/local/lib/python3.10/dist-packages (from ultralytics<8.1.0,>=8.0.225->clearedge==0.1.17) (9.0.0)\n",
            "Collecting thop>=0.1.1 (from ultralytics<8.1.0,>=8.0.225->clearedge==0.1.17)\n",
            "  Downloading thop-0.1.1.post2209072238-py3-none-any.whl (15 kB)\n",
            "Requirement already satisfied: pandas>=1.1.4 in /usr/local/lib/python3.10/dist-packages (from ultralytics<8.1.0,>=8.0.225->clearedge==0.1.17) (1.5.3)\n",
            "Requirement already satisfied: seaborn>=0.11.0 in /usr/local/lib/python3.10/dist-packages (from ultralytics<8.1.0,>=8.0.225->clearedge==0.1.17) (0.13.1)\n",
            "Collecting hub-sdk>=0.0.2 (from ultralytics<8.1.0,>=8.0.225->clearedge==0.1.17)\n",
            "  Downloading hub_sdk-0.0.6-py3-none-any.whl (41 kB)\n",
            "\u001b[2K     \u001b[90m━━━━━━━━━━━━━━━━━━━━━━━━━━━━━━━━━━━━━━━━\u001b[0m \u001b[32m41.2/41.2 kB\u001b[0m \u001b[31m3.7 MB/s\u001b[0m eta \u001b[36m0:00:00\u001b[0m\n",
            "\u001b[?25hRequirement already satisfied: contourpy>=1.0.1 in /usr/local/lib/python3.10/dist-packages (from matplotlib>=3.3.0->ultralytics<8.1.0,>=8.0.225->clearedge==0.1.17) (1.2.0)\n",
            "Requirement already satisfied: cycler>=0.10 in /usr/local/lib/python3.10/dist-packages (from matplotlib>=3.3.0->ultralytics<8.1.0,>=8.0.225->clearedge==0.1.17) (0.12.1)\n",
            "Requirement already satisfied: fonttools>=4.22.0 in /usr/local/lib/python3.10/dist-packages (from matplotlib>=3.3.0->ultralytics<8.1.0,>=8.0.225->clearedge==0.1.17) (4.50.0)\n",
            "Requirement already satisfied: kiwisolver>=1.0.1 in /usr/local/lib/python3.10/dist-packages (from matplotlib>=3.3.0->ultralytics<8.1.0,>=8.0.225->clearedge==0.1.17) (1.4.5)\n",
            "Requirement already satisfied: pyparsing>=2.3.1 in /usr/local/lib/python3.10/dist-packages (from matplotlib>=3.3.0->ultralytics<8.1.0,>=8.0.225->clearedge==0.1.17) (3.1.2)\n",
            "Requirement already satisfied: python-dateutil>=2.7 in /usr/local/lib/python3.10/dist-packages (from matplotlib>=3.3.0->ultralytics<8.1.0,>=8.0.225->clearedge==0.1.17) (2.8.2)\n",
            "Collecting coloredlogs (from onnxruntime>=1.7.0->rapid-table<0.2.0,>=0.1.3->clearedge==0.1.17)\n",
            "  Downloading coloredlogs-15.0.1-py2.py3-none-any.whl (46 kB)\n",
            "\u001b[2K     \u001b[90m━━━━━━━━━━━━━━━━━━━━━━━━━━━━━━━━━━━━━━━━\u001b[0m \u001b[32m46.0/46.0 kB\u001b[0m \u001b[31m4.3 MB/s\u001b[0m eta \u001b[36m0:00:00\u001b[0m\n",
            "\u001b[?25hRequirement already satisfied: sympy in /usr/local/lib/python3.10/dist-packages (from onnxruntime>=1.7.0->rapid-table<0.2.0,>=0.1.3->clearedge==0.1.17) (1.12)\n",
            "Requirement already satisfied: pytz>=2020.1 in /usr/local/lib/python3.10/dist-packages (from pandas>=1.1.4->ultralytics<8.1.0,>=8.0.225->clearedge==0.1.17) (2023.4)\n",
            "Requirement already satisfied: networkx in /usr/local/lib/python3.10/dist-packages (from torch>=1.8.0->ultralytics<8.1.0,>=8.0.225->clearedge==0.1.17) (3.2.1)\n",
            "Requirement already satisfied: jinja2 in /usr/local/lib/python3.10/dist-packages (from torch>=1.8.0->ultralytics<8.1.0,>=8.0.225->clearedge==0.1.17) (3.1.3)\n",
            "Collecting nvidia-cuda-nvrtc-cu12==12.1.105 (from torch>=1.8.0->ultralytics<8.1.0,>=8.0.225->clearedge==0.1.17)\n",
            "  Downloading nvidia_cuda_nvrtc_cu12-12.1.105-py3-none-manylinux1_x86_64.whl (23.7 MB)\n",
            "\u001b[2K     \u001b[90m━━━━━━━━━━━━━━━━━━━━━━━━━━━━━━━━━━━━━━━━\u001b[0m \u001b[32m23.7/23.7 MB\u001b[0m \u001b[31m17.2 MB/s\u001b[0m eta \u001b[36m0:00:00\u001b[0m\n",
            "\u001b[?25hCollecting nvidia-cuda-runtime-cu12==12.1.105 (from torch>=1.8.0->ultralytics<8.1.0,>=8.0.225->clearedge==0.1.17)\n",
            "  Downloading nvidia_cuda_runtime_cu12-12.1.105-py3-none-manylinux1_x86_64.whl (823 kB)\n",
            "\u001b[2K     \u001b[90m━━━━━━━━━━━━━━━━━━━━━━━━━━━━━━━━━━━━━━━━\u001b[0m \u001b[32m823.6/823.6 kB\u001b[0m \u001b[31m29.7 MB/s\u001b[0m eta \u001b[36m0:00:00\u001b[0m\n",
            "\u001b[?25hCollecting nvidia-cuda-cupti-cu12==12.1.105 (from torch>=1.8.0->ultralytics<8.1.0,>=8.0.225->clearedge==0.1.17)\n",
            "  Downloading nvidia_cuda_cupti_cu12-12.1.105-py3-none-manylinux1_x86_64.whl (14.1 MB)\n",
            "\u001b[2K     \u001b[90m━━━━━━━━━━━━━━━━━━━━━━━━━━━━━━━━━━━━━━━━\u001b[0m \u001b[32m14.1/14.1 MB\u001b[0m \u001b[31m45.9 MB/s\u001b[0m eta \u001b[36m0:00:00\u001b[0m\n",
            "\u001b[?25hCollecting nvidia-cudnn-cu12==8.9.2.26 (from torch>=1.8.0->ultralytics<8.1.0,>=8.0.225->clearedge==0.1.17)\n",
            "  Downloading nvidia_cudnn_cu12-8.9.2.26-py3-none-manylinux1_x86_64.whl (731.7 MB)\n",
            "\u001b[2K     \u001b[90m━━━━━━━━━━━━━━━━━━━━━━━━━━━━━━━━━━━━━━━━\u001b[0m \u001b[32m731.7/731.7 MB\u001b[0m \u001b[31m1.9 MB/s\u001b[0m eta \u001b[36m0:00:00\u001b[0m\n",
            "\u001b[?25hCollecting nvidia-cublas-cu12==12.1.3.1 (from torch>=1.8.0->ultralytics<8.1.0,>=8.0.225->clearedge==0.1.17)\n",
            "  Downloading nvidia_cublas_cu12-12.1.3.1-py3-none-manylinux1_x86_64.whl (410.6 MB)\n",
            "\u001b[2K     \u001b[90m━━━━━━━━━━━━━━━━━━━━━━━━━━━━━━━━━━━━━━━━\u001b[0m \u001b[32m410.6/410.6 MB\u001b[0m \u001b[31m1.9 MB/s\u001b[0m eta \u001b[36m0:00:00\u001b[0m\n",
            "\u001b[?25hCollecting nvidia-cufft-cu12==11.0.2.54 (from torch>=1.8.0->ultralytics<8.1.0,>=8.0.225->clearedge==0.1.17)\n",
            "  Downloading nvidia_cufft_cu12-11.0.2.54-py3-none-manylinux1_x86_64.whl (121.6 MB)\n",
            "\u001b[2K     \u001b[90m━━━━━━━━━━━━━━━━━━━━━━━━━━━━━━━━━━━━━━━━\u001b[0m \u001b[32m121.6/121.6 MB\u001b[0m \u001b[31m8.2 MB/s\u001b[0m eta \u001b[36m0:00:00\u001b[0m\n",
            "\u001b[?25hCollecting nvidia-curand-cu12==10.3.2.106 (from torch>=1.8.0->ultralytics<8.1.0,>=8.0.225->clearedge==0.1.17)\n",
            "  Downloading nvidia_curand_cu12-10.3.2.106-py3-none-manylinux1_x86_64.whl (56.5 MB)\n",
            "\u001b[2K     \u001b[90m━━━━━━━━━━━━━━━━━━━━━━━━━━━━━━━━━━━━━━━━\u001b[0m \u001b[32m56.5/56.5 MB\u001b[0m \u001b[31m12.9 MB/s\u001b[0m eta \u001b[36m0:00:00\u001b[0m\n",
            "\u001b[?25hCollecting nvidia-cusolver-cu12==11.4.5.107 (from torch>=1.8.0->ultralytics<8.1.0,>=8.0.225->clearedge==0.1.17)\n",
            "  Downloading nvidia_cusolver_cu12-11.4.5.107-py3-none-manylinux1_x86_64.whl (124.2 MB)\n",
            "\u001b[2K     \u001b[90m━━━━━━━━━━━━━━━━━━━━━━━━━━━━━━━━━━━━━━━━\u001b[0m \u001b[32m124.2/124.2 MB\u001b[0m \u001b[31m8.2 MB/s\u001b[0m eta \u001b[36m0:00:00\u001b[0m\n",
            "\u001b[?25hCollecting nvidia-cusparse-cu12==12.1.0.106 (from torch>=1.8.0->ultralytics<8.1.0,>=8.0.225->clearedge==0.1.17)\n",
            "  Downloading nvidia_cusparse_cu12-12.1.0.106-py3-none-manylinux1_x86_64.whl (196.0 MB)\n",
            "\u001b[2K     \u001b[90m━━━━━━━━━━━━━━━━━━━━━━━━━━━━━━━━━━━━━━━━\u001b[0m \u001b[32m196.0/196.0 MB\u001b[0m \u001b[31m3.4 MB/s\u001b[0m eta \u001b[36m0:00:00\u001b[0m\n",
            "\u001b[?25hCollecting nvidia-nccl-cu12==2.19.3 (from torch>=1.8.0->ultralytics<8.1.0,>=8.0.225->clearedge==0.1.17)\n",
            "  Downloading nvidia_nccl_cu12-2.19.3-py3-none-manylinux1_x86_64.whl (166.0 MB)\n",
            "\u001b[2K     \u001b[90m━━━━━━━━━━━━━━━━━━━━━━━━━━━━━━━━━━━━━━━━\u001b[0m \u001b[32m166.0/166.0 MB\u001b[0m \u001b[31m7.7 MB/s\u001b[0m eta \u001b[36m0:00:00\u001b[0m\n",
            "\u001b[?25hCollecting nvidia-nvtx-cu12==12.1.105 (from torch>=1.8.0->ultralytics<8.1.0,>=8.0.225->clearedge==0.1.17)\n",
            "  Downloading nvidia_nvtx_cu12-12.1.105-py3-none-manylinux1_x86_64.whl (99 kB)\n",
            "\u001b[2K     \u001b[90m━━━━━━━━━━━━━━━━━━━━━━━━━━━━━━━━━━━━━━━━\u001b[0m \u001b[32m99.1/99.1 kB\u001b[0m \u001b[31m13.7 MB/s\u001b[0m eta \u001b[36m0:00:00\u001b[0m\n",
            "\u001b[?25hRequirement already satisfied: triton==2.2.0 in /usr/local/lib/python3.10/dist-packages (from torch>=1.8.0->ultralytics<8.1.0,>=8.0.225->clearedge==0.1.17) (2.2.0)\n",
            "Collecting nvidia-nvjitlink-cu12 (from nvidia-cusolver-cu12==11.4.5.107->torch>=1.8.0->ultralytics<8.1.0,>=8.0.225->clearedge==0.1.17)\n",
            "  Downloading nvidia_nvjitlink_cu12-12.4.99-py3-none-manylinux2014_x86_64.whl (21.1 MB)\n",
            "\u001b[2K     \u001b[90m━━━━━━━━━━━━━━━━━━━━━━━━━━━━━━━━━━━━━━━━\u001b[0m \u001b[32m21.1/21.1 MB\u001b[0m \u001b[31m58.5 MB/s\u001b[0m eta \u001b[36m0:00:00\u001b[0m\n",
            "\u001b[?25hCollecting humanfriendly>=9.1 (from coloredlogs->onnxruntime>=1.7.0->rapid-table<0.2.0,>=0.1.3->clearedge==0.1.17)\n",
            "  Downloading humanfriendly-10.0-py2.py3-none-any.whl (86 kB)\n",
            "\u001b[2K     \u001b[90m━━━━━━━━━━━━━━━━━━━━━━━━━━━━━━━━━━━━━━━━\u001b[0m \u001b[32m86.8/86.8 kB\u001b[0m \u001b[31m12.9 MB/s\u001b[0m eta \u001b[36m0:00:00\u001b[0m\n",
            "\u001b[?25hRequirement already satisfied: MarkupSafe>=2.0 in /usr/local/lib/python3.10/dist-packages (from jinja2->torch>=1.8.0->ultralytics<8.1.0,>=8.0.225->clearedge==0.1.17) (2.1.5)\n",
            "Requirement already satisfied: mpmath>=0.19 in /usr/local/lib/python3.10/dist-packages (from sympy->onnxruntime>=1.7.0->rapid-table<0.2.0,>=0.1.3->clearedge==0.1.17) (1.3.0)\n",
            "Installing collected packages: pyclipper, validators, pytesseract, PyMuPDFb, pdf2image, onnx, nvidia-nvtx-cu12, nvidia-nvjitlink-cu12, nvidia-nccl-cu12, nvidia-curand-cu12, nvidia-cufft-cu12, nvidia-cuda-runtime-cu12, nvidia-cuda-nvrtc-cu12, nvidia-cuda-cupti-cu12, nvidia-cublas-cu12, humanfriendly, tf2onnx, pymupdf, nvidia-cusparse-cu12, nvidia-cudnn-cu12, huggingface-hub, hub-sdk, coloredlogs, onnxruntime, nvidia-cusolver-cu12, rapidocr-onnxruntime, rapid-table, thop, ultralytics, clearedge\n",
            "  Attempting uninstall: huggingface-hub\n",
            "    Found existing installation: huggingface-hub 0.20.3\n",
            "    Uninstalling huggingface-hub-0.20.3:\n",
            "      Successfully uninstalled huggingface-hub-0.20.3\n",
            "Successfully installed PyMuPDFb-1.24.0 clearedge-0.1.17 coloredlogs-15.0.1 hub-sdk-0.0.6 huggingface-hub-0.22.2 humanfriendly-10.0 nvidia-cublas-cu12-12.1.3.1 nvidia-cuda-cupti-cu12-12.1.105 nvidia-cuda-nvrtc-cu12-12.1.105 nvidia-cuda-runtime-cu12-12.1.105 nvidia-cudnn-cu12-8.9.2.26 nvidia-cufft-cu12-11.0.2.54 nvidia-curand-cu12-10.3.2.106 nvidia-cusolver-cu12-11.4.5.107 nvidia-cusparse-cu12-12.1.0.106 nvidia-nccl-cu12-2.19.3 nvidia-nvjitlink-cu12-12.4.99 nvidia-nvtx-cu12-12.1.105 onnx-1.16.0 onnxruntime-1.17.1 pdf2image-1.17.0 pyclipper-1.3.0.post5 pymupdf-1.24.0 pytesseract-0.3.10 rapid-table-0.1.3 rapidocr-onnxruntime-1.3.15 tf2onnx-1.16.1 thop-0.1.1.post2209072238 ultralytics-8.0.239 validators-0.22.0\n"
          ]
        }
      ],
      "source": [
        "!pip install clearedge==0.1.17"
      ]
    },
    {
      "cell_type": "code",
      "execution_count": 2,
      "metadata": {
        "colab": {
          "base_uri": "https://localhost:8080/"
        },
        "id": "aQvEZG_AbLb2",
        "outputId": "f0f42f89-8485-4b45-fb23-6b72a387b72f"
      },
      "outputs": [
        {
          "output_type": "stream",
          "name": "stdout",
          "text": [
            "Reading package lists... Done\n",
            "Building dependency tree... Done\n",
            "Reading state information... Done\n",
            "The following additional packages will be installed:\n",
            "  libpoppler-cpp0v5\n",
            "The following NEW packages will be installed:\n",
            "  libpoppler-cpp-dev libpoppler-cpp0v5 poppler-utils\n",
            "0 upgraded, 3 newly installed, 0 to remove and 45 not upgraded.\n",
            "Need to get 236 kB of archives.\n",
            "After this operation, 928 kB of additional disk space will be used.\n",
            "Get:1 http://archive.ubuntu.com/ubuntu jammy-updates/main amd64 libpoppler-cpp0v5 amd64 22.02.0-2ubuntu0.3 [38.7 kB]\n",
            "Get:2 http://archive.ubuntu.com/ubuntu jammy-updates/main amd64 libpoppler-cpp-dev amd64 22.02.0-2ubuntu0.3 [11.7 kB]\n",
            "Get:3 http://archive.ubuntu.com/ubuntu jammy-updates/main amd64 poppler-utils amd64 22.02.0-2ubuntu0.3 [186 kB]\n",
            "Fetched 236 kB in 0s (1,966 kB/s)\n",
            "Selecting previously unselected package libpoppler-cpp0v5:amd64.\n",
            "(Reading database ... 121753 files and directories currently installed.)\n",
            "Preparing to unpack .../libpoppler-cpp0v5_22.02.0-2ubuntu0.3_amd64.deb ...\n",
            "Unpacking libpoppler-cpp0v5:amd64 (22.02.0-2ubuntu0.3) ...\n",
            "Selecting previously unselected package libpoppler-cpp-dev:amd64.\n",
            "Preparing to unpack .../libpoppler-cpp-dev_22.02.0-2ubuntu0.3_amd64.deb ...\n",
            "Unpacking libpoppler-cpp-dev:amd64 (22.02.0-2ubuntu0.3) ...\n",
            "Selecting previously unselected package poppler-utils.\n",
            "Preparing to unpack .../poppler-utils_22.02.0-2ubuntu0.3_amd64.deb ...\n",
            "Unpacking poppler-utils (22.02.0-2ubuntu0.3) ...\n",
            "Setting up poppler-utils (22.02.0-2ubuntu0.3) ...\n",
            "Setting up libpoppler-cpp0v5:amd64 (22.02.0-2ubuntu0.3) ...\n",
            "Setting up libpoppler-cpp-dev:amd64 (22.02.0-2ubuntu0.3) ...\n",
            "Processing triggers for man-db (2.10.2-1) ...\n",
            "Processing triggers for libc-bin (2.35-0ubuntu3.4) ...\n",
            "/sbin/ldconfig.real: /usr/local/lib/libtbbbind_2_0.so.3 is not a symbolic link\n",
            "\n",
            "/sbin/ldconfig.real: /usr/local/lib/libtbb.so.12 is not a symbolic link\n",
            "\n",
            "/sbin/ldconfig.real: /usr/local/lib/libtbbmalloc_proxy.so.2 is not a symbolic link\n",
            "\n",
            "/sbin/ldconfig.real: /usr/local/lib/libtbbbind.so.3 is not a symbolic link\n",
            "\n",
            "/sbin/ldconfig.real: /usr/local/lib/libtbbbind_2_5.so.3 is not a symbolic link\n",
            "\n",
            "/sbin/ldconfig.real: /usr/local/lib/libtbbmalloc.so.2 is not a symbolic link\n",
            "\n"
          ]
        }
      ],
      "source": [
        "!apt-get install poppler-utils libpoppler-cpp-dev"
      ]
    },
    {
      "cell_type": "code",
      "execution_count": 3,
      "metadata": {
        "colab": {
          "base_uri": "https://localhost:8080/"
        },
        "id": "JS2HMNc7bewJ",
        "outputId": "7c40d780-7ed8-418b-8a0a-083784c4057d"
      },
      "outputs": [
        {
          "output_type": "stream",
          "name": "stdout",
          "text": [
            "Reading package lists... Done\n",
            "Building dependency tree... Done\n",
            "Reading state information... Done\n",
            "The following additional packages will be installed:\n",
            "  tesseract-ocr-eng tesseract-ocr-osd\n",
            "The following NEW packages will be installed:\n",
            "  tesseract-ocr tesseract-ocr-eng tesseract-ocr-osd\n",
            "0 upgraded, 3 newly installed, 0 to remove and 45 not upgraded.\n",
            "Need to get 4,816 kB of archives.\n",
            "After this operation, 15.6 MB of additional disk space will be used.\n",
            "Get:1 http://archive.ubuntu.com/ubuntu jammy/universe amd64 tesseract-ocr-eng all 1:4.00~git30-7274cfa-1.1 [1,591 kB]\n",
            "Get:2 http://archive.ubuntu.com/ubuntu jammy/universe amd64 tesseract-ocr-osd all 1:4.00~git30-7274cfa-1.1 [2,990 kB]\n",
            "Get:3 http://archive.ubuntu.com/ubuntu jammy/universe amd64 tesseract-ocr amd64 4.1.1-2.1build1 [236 kB]\n",
            "Fetched 4,816 kB in 0s (22.5 MB/s)\n",
            "debconf: unable to initialize frontend: Dialog\n",
            "debconf: (No usable dialog-like program is installed, so the dialog based frontend cannot be used. at /usr/share/perl5/Debconf/FrontEnd/Dialog.pm line 78, <> line 3.)\n",
            "debconf: falling back to frontend: Readline\n",
            "debconf: unable to initialize frontend: Readline\n",
            "debconf: (This frontend requires a controlling tty.)\n",
            "debconf: falling back to frontend: Teletype\n",
            "dpkg-preconfigure: unable to re-open stdin: \n",
            "Selecting previously unselected package tesseract-ocr-eng.\n",
            "(Reading database ... 121808 files and directories currently installed.)\n",
            "Preparing to unpack .../tesseract-ocr-eng_1%3a4.00~git30-7274cfa-1.1_all.deb ...\n",
            "Unpacking tesseract-ocr-eng (1:4.00~git30-7274cfa-1.1) ...\n",
            "Selecting previously unselected package tesseract-ocr-osd.\n",
            "Preparing to unpack .../tesseract-ocr-osd_1%3a4.00~git30-7274cfa-1.1_all.deb ...\n",
            "Unpacking tesseract-ocr-osd (1:4.00~git30-7274cfa-1.1) ...\n",
            "Selecting previously unselected package tesseract-ocr.\n",
            "Preparing to unpack .../tesseract-ocr_4.1.1-2.1build1_amd64.deb ...\n",
            "Unpacking tesseract-ocr (4.1.1-2.1build1) ...\n",
            "Setting up tesseract-ocr-eng (1:4.00~git30-7274cfa-1.1) ...\n",
            "Setting up tesseract-ocr-osd (1:4.00~git30-7274cfa-1.1) ...\n",
            "Setting up tesseract-ocr (4.1.1-2.1build1) ...\n",
            "Processing triggers for man-db (2.10.2-1) ...\n"
          ]
        }
      ],
      "source": [
        "!sudo apt install tesseract-ocr"
      ]
    },
    {
      "cell_type": "code",
      "source": [
        "filepath=\"...\" #replace with your filepath"
      ],
      "metadata": {
        "id": "Yt0iMMKUSWTS"
      },
      "execution_count": 6,
      "outputs": []
    },
    {
      "cell_type": "code",
      "execution_count": 7,
      "metadata": {
        "colab": {
          "base_uri": "https://localhost:8080/",
          "height": 174
        },
        "id": "yaXHXz0rYnsP",
        "outputId": "49178d96-2055-41d4-d18a-8fad604b4457"
      },
      "outputs": [
        {
          "output_type": "stream",
          "name": "stdout",
          "text": [
            "Checking if text is extractable from PDF: 3 pages contain text.\n"
          ]
        },
        {
          "output_type": "stream",
          "name": "stderr",
          "text": [
            "100%|██████████| 3/3 [00:00<00:00, 101.82it/s]\n"
          ]
        },
        {
          "output_type": "execute_result",
          "data": {
            "text/plain": [
              "\"Why bitcoin?\\n\\nBitcoin is a digital currency with high market demand and excellent liquidity. With a hard supply cap of 21 million coins, bitcoin provides protection from inﬂation and devalued currency.\\n\\nCompanies and countries around the world continue to accept Bitcoin as a valid currency and payment method, with credibility growing daily. Investing in bitcoin mining offers a way to earn high returns while supporting the future of technology.\\n\\nAbout Our CEO\\n\\nLaura Pommer is the CEO and Chief Geologist of EnergyFunders. She previously served as the CEO of a private equity backed oil and gas company, where she ﬁrst became involved with off-grid bitcoin mining. Laura’s combined experience in both oil and gas and bitcoin makes her perfect for executing on our off-grid mining investments.\\n\\nAccumulate Bitcoin Throughout the Life of the Fund\\n\\nBitcoin mining offers the opportunity to accumulate bitcoin at below-market prices.\\n\\nNo more speculating on price movements to earn a return. Earn periodic payouts of bitcoin at potentially below market costs.\\n\\nBeneﬁt From a Vertically Integrated Mining Model\\n\\nSourcing gas direct from the wellhead provides cost-advantaged power, insulated against higher energy prices.\\n\\nPlus, on-site power generation eliminates reliance on the electrical grid – providing resilience against blackouts and other disruptions.\\n\\nLower energy costs and greater operational control provide a key competitive advantage.\\n\\nProtection Against Inﬂation\\n\\nBitcoin's ﬁxed supply creates a store of value. With inﬂation running high, bitcoin offers a hedge against devalued currency. The investment community increasingly views bitcoin as a version of digital gold.\\n\\nJoin the Future of Bitcoin Investing\\n\\nThe Bitcoin Discovery Fund by EnergyFunders\\n\\nReceive regular payouts of bitcoin from our off-grid mining\\n\\nPowered by natural gas for greater operational and regulatory risk mitigation\\n\\nTargeting high returns in an off-stock market asset\\n\\nInvest with as little as $5,000 High Potential Returns\\n\\nInvestments structured to reduce your tax bill and drive attractive returns.\\n\\nVertically Integrated Mining Model\\n\\nVertically integrated mining model provides superior forecasts.\\n\\nEnjoy attractive returns without betting on higher bitcoin prices.\\n\\nRegular Payouts Plus Investment Growth\\n\\nWe aim to issue regular bitcoin payouts, while also compounding your capital.\\n\\nBitcoin we mine will be distributed to investors regularly, in proportion to their holdings with the remaining returns being reinvested.\\n\\nChoose whether to receive monthly payouts in USD or bitcoin.\\n\\nThe Beneﬁts of Investing in the Bitcoin Discovery Fund\\n\\nParticipate in the best performing asset class of the last decade.\\n\\nTargeting high IRRs, plus inﬂation protection.\\n\\nAccumulate bitcoin at a potential discount to market prices.\\n\\nOn-site power generation using wellhead natural gas creates key advantages.\\n\\nMinimize risk exposure to higher commodity prices or electricity costs.\\n\\nEnjoy lower operating costs versus grid energy, providing margin uplift.\\n\\nAvoid reliance on a fragile electric grid, ensuring steady and reliable power supply.\\n\\nTo invest in our Bitcoin Discovery Fund, visit www.EnergyFunders.com IF YOU'D LIKE TO LEARN MORE, VISIT OUR WEBSITE AT ENERGYFUNDERS.COM OR REACH OUT TO OUR TEAM AT INFO@ENERGYFUNDERS.COM\\n\\nThe internal rate of return (IRR) is the annual rate of growth that an investment is expected to generate. The calculation excludes external variables, including inﬂation, the cost of capital, or the risk-free rate of return. Total proﬁt refers to the total dollar value returned, minus the upfront investment, providing a measure of net proﬁt. Total return is a measure of the total proﬁt relative to the total upfront investment.\\n\\n*For illustrative purposes only. Based on uncertain and imperfect assumptions and future projections. No implicit or explicit guarantee of performance.\\n\\n$100,000 Bitcoin\\n\\nInitial Investment\\n\\nYear 1 Return\\n\\nYear 2 Return\\n\\nYear 3 Return\\n\\nMonth 37 Return\\n\\nTotal Profit\\n\\nIRR\\n\\nTotal Return\\n\\n$250,000\\n\\n$343,830\\n\\n$304,699\\n\\n$150,305\\n\\n$195,876\\n\\n$744,710\\n\\n154.32%\\n\\n297.88%\\n\\n$10,000\\n\\n$13,703\\n\\n$12,118\\n\\n$6,012\\n\\n$7,835\\n\\n$29,738\\n\\n153.09%\\n\\n297.38%\\n\\n$1,000,000\\n\\n$1,382,821\\n\\n$1,218,795\\n\\n$601,221\\n\\n$783,503\\n\\n$2,986,341\\n\\n158.12%\\n\\n298.63%\\n\\n$60,000 Bitcoin\\n\\nInitial Investment\\n\\nYear 1 Return\\n\\nYear 2 Return\\n\\nYear 3 Return\\n\\nMonth 37 Return\\n\\nTotal Profit\\n\\nIRR\\n\\nTotal Return\\n\\n$250,000\\n\\n$164,188\\n\\n$133,172\\n\\n$56,997\\n\\n$103,318\\n\\n$187,654\\n\\n36.43%\\n\\n75.06%\\n\\n$10,000\\n\\n$6,518\\n\\n$4,527\\n\\n$2,279\\n\\n$4,133\\n\\n$7,456\\n\\n35.99%\\n\\n74.56%\\n\\n$1,000,000\\n\\n$671,750\\n\\n$452,688\\n\\n$227,906\\n\\n$413,273\\n\\n$765,618\\n\\n37.79%\\n\\n76.56%\\n\\n$20,000 Bitcoin\\n\\nInitial Investment\\n\\nYear 1 Return\\n\\nYear 2 Return\\n\\nYear 3 Return\\n\\nMonth 37 Return\\n\\nTotal Profit\\n\\nIRR\\n\\nTotal Return\\n\\n$250,000\\n\\n$8,620\\n\\n($4,443)\\n\\n($25,043)\\n\\n$7,413\\n\\n($263,453)\\n\\n0.00%\\n\\n-105.38%\\n\\n$10,000\\n\\n$295\\n\\n($178)\\n\\n($1,002)\\n\\n$297\\n\\n($10,588)\\n\\n0.00%\\n\\n-105.88%\\n\\n$1,000,000\\n\\n$41,978\\n\\n($17,772)\\n\\n($100,171)\\n\\n$29,652\\n\\n($1,046,313)\\n\\n0.00%\\n\\n-104.63%\\n\\nENERGYFUNDERS BITCOIN DISCOVERY FUND POTENTIAL PROFIT SCENARIOS\\n\\nFund Summary\\n\\nEnergyFunders Bitcoin Discovery Fund\\n\\nInvestors in our Bitcoin Discovery Fund will become shareholders of a company that owns fractional interests in bitcoin mines. As these mines discover bitcoin, the bitcoin will be periodically distributed to owners, in proportion to their overall interest in the fund.\\n\\nAs an investor, you will enjoy the accumulation of bitcoin at potentially below-market rates, possible protection from inﬂation and opportunities for tax advantages. You will be able to choose whether to receive your distributions in either BTC or in USD.\\n\\nAssumptions in Financial Forecast\\n\\nEach scenario reﬂects a forecast of potential proﬁt outcome. Scenarios assume initial bitcoin prices of $20k, $60k, and $100k per bitcoin, plus investment levels of $10k, $250k, and $1M.\\n\\nNatural gas price assumptions at $5.50/MCF. Bitcoin network difﬁculty rate of 26.6 T.\\n\\nOur expected production cost ranges from $15,000 to 30,000 per bitcoin. Our anticipated cost of off-grid power generation (natural gas) = $0.03-$0.07/kwh.\\n\\nWe assume a 2.75% monthly increase in bitcoin price until May 2024. In 2024, we assume the rate of issuance of the bitcoin from the network to the miners will halve from 6.25 to 3.125 BTC per block. This halving has historically occurred every four years, leading to pricing increases and supply shocks. After May 2024, we project a monthly bitcoin price increase of 5.5%.\""
            ],
            "application/vnd.google.colaboratory.intrinsic+json": {
              "type": "string"
            }
          },
          "metadata": {},
          "execution_count": 7
        }
      ],
      "source": [
        "from clearedge.reader.pdf import process_pdf\n",
        "\n",
        "out  = process_pdf(filepath=filepath)\n",
        "final = [o.text for o in out]\n",
        "\" \".join(final)"
      ]
    }
  ],
  "metadata": {
    "colab": {
      "provenance": []
    },
    "kernelspec": {
      "display_name": "Python 3",
      "name": "python3"
    },
    "language_info": {
      "name": "python"
    }
  },
  "nbformat": 4,
  "nbformat_minor": 0
}